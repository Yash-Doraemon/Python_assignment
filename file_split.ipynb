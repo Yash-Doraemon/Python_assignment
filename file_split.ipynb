{
 "cells": [
  {
   "cell_type": "code",
   "execution_count": 10,
   "metadata": {},
   "outputs": [
    {
     "name": "stdout",
     "output_type": "stream",
     "text": [
      "Enter the complete file pathD:\\Split\\XML_file.xml\n",
      "Enter the complete path of the directory where you want to store the output filesD:\\Split\n",
      "Do you want to split the file in \n",
      " 1.KB's \n",
      " 2.MB's \n",
      " 3.GB's \n",
      "2\n",
      "Enter the split size for MB split1\n",
      "1048576\n",
      "file: D:\\Split\\XML_file_1.xml, size: 1000000\n",
      "file: D:\\Split\\XML_file_2.xml, size: 971831\n"
     ]
    }
   ],
   "source": [
    "from fsplit.filesplit import Filesplit\n",
    "\n",
    "fs = Filesplit()\n",
    "filedir=input(\"Enter the complete file path\")\n",
    "outdir=input(\"Enter the complete path of the directory where you want to store the output files\")\n",
    "choice=int(input(\"Do you want to split the file in \\n 1.KB's \\n 2.MB's \\n 3.GB's \\n\"))\n",
    "if(choice == 1):\n",
    "    x=int(input(\"Enter the split size for KB split\"))\n",
    "    x=x*1024\n",
    "elif(choice == 2):\n",
    "    x=int(input(\"Enter the split size for MB split\"))\n",
    "    x=x*1024*1024\n",
    "elif(choice == 3):\n",
    "    x=int(input(\"Enter the split size for GB split\"))\n",
    "    x=x*1024*1024*1024\n",
    "else:\n",
    "    print(\"Wrong Input\") \n",
    "f_size=x\n",
    "print(f_size)\n",
    "def split_cb(f, s):\n",
    "    print(\"file: {0}, size: {1}\".format(f, s))\n",
    "    \n",
    "fs.split(file=filedir, split_size=f_size, output_dir=outdir,  callback=split_cb)"
   ]
  },
  {
   "cell_type": "code",
   "execution_count": null,
   "metadata": {},
   "outputs": [],
   "source": []
  },
  {
   "cell_type": "code",
   "execution_count": null,
   "metadata": {},
   "outputs": [],
   "source": []
  }
 ],
 "metadata": {
  "kernelspec": {
   "display_name": "Python 3",
   "language": "python",
   "name": "python3"
  },
  "language_info": {
   "codemirror_mode": {
    "name": "ipython",
    "version": 3
   },
   "file_extension": ".py",
   "mimetype": "text/x-python",
   "name": "python",
   "nbconvert_exporter": "python",
   "pygments_lexer": "ipython3",
   "version": "3.7.3"
  }
 },
 "nbformat": 4,
 "nbformat_minor": 2
}
